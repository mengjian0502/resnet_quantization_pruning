{
 "cells": [
  {
   "cell_type": "code",
   "execution_count": 2,
   "metadata": {},
   "outputs": [],
   "source": [
    "import torch"
   ]
  },
  {
   "cell_type": "code",
   "execution_count": 7,
   "metadata": {},
   "outputs": [
    {
     "data": {
      "image/png": "[encoded data removed]",
      "text/plain": [
       "<Figure size 1000x250 with 5 Axes>"
      ]
     },
     "metadata": {
      "needs_background": "light"
     },
     "output_type": "display_data"
    }
   ],
   "source": [
    "from torchvision import utils\n",
    "# import matplotlib\n",
    "# matplotlib.use('Agg')\n",
    "import matplotlib.pyplot as plt\n",
    "plt.ion() # interactive mode\n",
    "%matplotlib inline\n",
    "\n",
    "checkpoint0 = torch.load('./base/checkpoint.pth.tar')\n",
    "\n",
    "params_base = checkpoint0['state_dict']\n",
    "\n",
    "for k,v in params_base.items():\n",
    "     if 'stage_2.1.conv_a.weight' in k:\n",
    "            base = v\n",
    "\n",
    "checkpoint1 = torch.load('./prune/checkpoint.pth.tar')\n",
    "\n",
    "params_swp = checkpoint1['state_dict']\n",
    "\n",
    "for k,v in params_swp.items():\n",
    "     if 'stage_2.1.conv_a.weight' in k:\n",
    "            swp = v\n",
    "\n",
    "\n",
    "            \n",
    "checkpoint2 = torch.load('./tern/checkpoint.pth.tar')\n",
    "\n",
    "params_tern = checkpoint2['state_dict']\n",
    "\n",
    "for k,v in params_tern.items():\n",
    "     if 'stage_2.1.conv_a.weight' in k:\n",
    "            tern = v\n",
    "            \n",
    "checkpoint3 = torch.load('./naive_combine/checkpoint.pth.tar')\n",
    "\n",
    "params_naive = checkpoint3['state_dict']\n",
    "\n",
    "for k,v in params_naive.items():\n",
    "     if 'stage_2.1.conv_a.weight' in k:\n",
    "            naive = v\n",
    "            \n",
    "            \n",
    "checkpoint4 = torch.load('./ours/checkpoint.pth.tar')\n",
    "\n",
    "params_our = checkpoint4['state_dict']\n",
    "\n",
    "for k,v in params_our.items():\n",
    "     if 'stage_2.1.conv_a.weight' in k:\n",
    "            our = v\n",
    "\n",
    "# Plot\n",
    "fig, axes = plt.subplots(1, 5, figsize=(10,2.5), dpi=100, sharex=False, sharey=False)\n",
    "colors = ['tab:red', 'tab:blue', 'tab:green', 'tab:pink', 'tab:olive']\n",
    "\n",
    "axes[0].hist(base.cpu().numpy().flatten(), alpha=0.5, bins=100, density=True, stacked=True, label='base', color=colors[0])\n",
    "axes[0].set_title(\"base\")\n",
    "\n",
    "axes[1].hist(swp.cpu().numpy().flatten(), alpha=0.5, bins=100, density=True, stacked=True, label='prune', color=colors[1])\n",
    "axes[1].set_title(\"prune\")\n",
    "\n",
    "axes[2].hist(tern.cpu().numpy().flatten(), alpha=0.5, bins=100, density=True, stacked=True, label='tern', color=colors[2])\n",
    "axes[2].set_title(\"tern\")\n",
    "\n",
    "axes[3].hist(naive.cpu().numpy().flatten(), alpha=0.5, bins=100, density=True, stacked=True, label='naive_combine', color=colors[3])\n",
    "axes[3].set_title(\"naive_combine\")\n",
    "\n",
    "\n",
    "axes[4].hist(our.cpu().numpy().flatten(), alpha=0.5, bins=100, density=True, stacked=True, label='our', color=colors[4])\n",
    "axes[4].set_title(\"our\")\n",
    "\n",
    "plt.show()\n",
    "# plt.savefig(\"w_dis.pdf\")"
   ]
  },
  {
   "cell_type": "code",
   "execution_count": null,
   "metadata": {},
   "outputs": [],
   "source": []
  }
 ],
 "metadata": {
  "kernelspec": {
   "display_name": "Python 3",
   "language": "python",
   "name": "python3"
  },
  "language_info": {
   "codemirror_mode": {
    "name": "ipython",
    "version": 3
   },
   "file_extension": ".py",
   "mimetype": "text/x-python",
   "name": "python",
   "nbconvert_exporter": "python",
   "pygments_lexer": "ipython3",
   "version": "3.6.6"
  }
 },
 "nbformat": 4,
 "nbformat_minor": 2
}
